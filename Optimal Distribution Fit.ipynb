{
 "cells": [
  {
   "cell_type": "code",
   "execution_count": 1,
   "metadata": {},
   "outputs": [],
   "source": [
    "def best_distribution_fit(data):\n",
    "    \n",
    "    dist_names = [\"norm\",\"beta\",\"gamma\",\"exponweib\", \"weibull_max\", \"weibull_min\", \"pareto\", \"genextreme\"]\n",
    "    dist_results = []\n",
    "    params = {}\n",
    "    \n",
    "    for dist_name in dist_names:\n",
    "        dist = getattr(stats, dist_name)\n",
    "        param = dist.fit(data)\n",
    "\n",
    "        params[dist_name] = param\n",
    "        \n",
    "        # Goodness of the fit : Kolmogorov-Smirnov test \n",
    "        D, p = stats.kstest(data, dist_name, args=param)\n",
    "        #print(\"p value for \"+dist_name+\" = \"+str(p))\n",
    "        dist_results.append((dist_name, p))\n",
    "        \n",
    "\n",
    "    # select the best fitted distribution\n",
    "    best_dist, best_p = (max(dist_results, key=lambda item: item[1]))\n",
    "\n",
    "    #print(\"Best fitting distribution: \"+str(best_dist))\n",
    "    #print(\"Best p value: \"+ str(best_p))\n",
    "    #print(\"Parameters for the best fit: \"+ str(params[best_dist]))\n",
    "   \n",
    "    return best_dist, params[best_dist]"
   ]
  },
  {
   "cell_type": "code",
   "execution_count": 1,
   "metadata": {},
   "outputs": [],
   "source": [
    
